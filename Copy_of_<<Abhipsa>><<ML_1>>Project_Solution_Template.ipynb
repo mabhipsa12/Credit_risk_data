{
  "nbformat": 4,
  "nbformat_minor": 0,
  "metadata": {
    "colab": {
      "provenance": [],
      "toc_visible": true,
      "include_colab_link": true
    },
    "kernelspec": {
      "name": "python3",
      "display_name": "Python 3"
    },
    "language_info": {
      "name": "python"
    }
  },
  "cells": [
    {
      "cell_type": "markdown",
      "metadata": {
        "id": "view-in-github",
        "colab_type": "text"
      },
      "source": [
        "<a href=\"https://colab.research.google.com/github/mabhipsa12/Credit_risk_data/blob/main/Copy_of_%3C%3CAbhipsa%3E%3E%3C%3CML_1%3E%3EProject_Solution_Template.ipynb\" target=\"_parent\"><img src=\"https://colab.research.google.com/assets/colab-badge.svg\" alt=\"Open In Colab\"/></a>"
      ]
    },
    {
      "cell_type": "markdown",
      "source": [
        "#TASK LIST"
      ],
      "metadata": {
        "id": "20j-L8FjBsWi"
      }
    },
    {
      "cell_type": "markdown",
      "source": [
        "Task-1: Problem Statement  \n",
        "\n",
        "Task-2: Data Exploration and Validation\n",
        "\n",
        "Task-3: Data Cleaning\n",
        "\n",
        "Task-4: Model Building Simple Models(Logistic Regregression and\n",
        "Decision trees)\n",
        "\n",
        "Task-5: Model Validation metrics calculation\n",
        "\n",
        "Task-6: Handling Class imbalance(Rebuild Simple ML models)\n",
        "\n",
        "Task-7: Feature Engineering\n",
        "\n",
        "Task-8: Ensemble Methods - XGB and RF\n",
        "\n",
        "Task-9: Model presentation\n",
        "\n",
        "Task-10: Interview questions on the project\n",
        "\n",
        "\n"
      ],
      "metadata": {
        "id": "eWypJx2YtioD"
      }
    },
    {
      "cell_type": "markdown",
      "source": [
        "# Project Objective\n",
        "## Background\n",
        "## Goal, Number of Resources, Business Impact, Time Taken\n",
        "\n"
      ],
      "metadata": {
        "id": "QBVpNTJ-tmZ0"
      }
    },
    {
      "cell_type": "markdown",
      "source": [
        "## ## Project Objective\n",
        "The objective of this project is to develop a machine learning model that predicts the likelihood of a credit card client defaulting on their payments in the next month. The model uses demographic data, repayment history, and financial details to generate accurate predictions that can assist financial institutions in managing credit risks more effectively.\n",
        "\n",
        "## Background\n",
        "This dataset contains information on credit card clients in Taiwan from April to September 2005. It includes various features such as demographic details (age, gender), credit information (credit limit), and payment histories. The goal of this project is to predict whether a client will default on their credit card payment in the subsequent month. This project is aimed at providing insights that can assist financial institutions in mitigating risks associated with credit defaults.\n",
        "\n",
        "## Goal\n",
        "The goal of this project is to build a robust machine learning model that accurately predicts if a client will default on their credit payment. The model will consider features such as credit limit, payment history, and demographic information, to generate risk scores for each client, thereby helping financial institutions make informed decisions.\n",
        "\n",
        "## Number of Resources\n",
        "- **People**: One data scientist (for data preprocessing, model building, and evaluation)\n",
        "- **Tools**: Python, Google Colab, libraries like `pandas`, `numpy`, `matplotlib`, `seaborn`, `sklearn`\n",
        "- **Data**: Credit card payment dataset (Taiwan)\n",
        "- **Hardware**: Computer with internet access, cloud computing (Google Colab)\n",
        "\n",
        "## Business Impact\n",
        "This project will help financial institutions make better data-driven decisions regarding credit card payments by predicting which clients are at risk of defaulting. By identifying high-risk clients early, financial institutions can take preventative actions, such as adjusting credit limits or offering payment plans. The business impact includes:\n",
        "- **Improved Risk Management**: Identifying high-risk clients in advance can help reduce defaults.\n",
        "- **Cost Savings**: Preventing defaults by proactively managing high-risk clients.\n",
        "- **Customer Retention**: Offering early interventions to at-risk customers to retain them.\n",
        "\n",
        "## Time Taken\n",
        "The estimated time for completing the project is as follows:\n",
        "- **Data Collection & Preprocessing**: 1 day\n",
        "- **Exploratory Data Analysis (EDA)**: 1-2 day\n",
        "- **Model Building & Training**: 1-2 days\n",
        "- **Model Evaluation & Optimization**: 2 days\n",
        "- **Final Report & Presentation**: 1-2 days\n",
        "- **Total Estimated Time**: Approximately 1 week\n"
      ],
      "metadata": {
        "id": "9GRXdAaGCVg5"
      }
    },
    {
      "cell_type": "markdown",
      "source": [
        "\n",
        "# Data Exploration and Validation\n"
      ],
      "metadata": {
        "id": "7C1vjC5St_t0"
      }
    },
    {
      "cell_type": "markdown",
      "source": [
        "https://www.kaggle.com/uciml/default-of-credit-card-clients-dataset"
      ],
      "metadata": {
        "id": "o_jJbWoto0ON"
      }
    },
    {
      "cell_type": "code",
      "source": [
        "import pandas as pd\n",
        "credit_risk_data=pd.read_csv(\"https://raw.githubusercontent.com/datavedi1/my_datasets/main/credit_risk_data/UCI_Credit_Card.csv\")\n",
        "credit_risk_data.info()"
      ],
      "metadata": {
        "id": "wtpjkxtHuJmD",
        "colab": {
          "base_uri": "https://localhost:8080/"
        },
        "outputId": "e84dda2b-95c8-4171-e453-c919d79d0622"
      },
      "execution_count": 5,
      "outputs": [
        {
          "output_type": "stream",
          "name": "stdout",
          "text": [
            "<class 'pandas.core.frame.DataFrame'>\n",
            "RangeIndex: 30000 entries, 0 to 29999\n",
            "Data columns (total 25 columns):\n",
            " #   Column                      Non-Null Count  Dtype  \n",
            "---  ------                      --------------  -----  \n",
            " 0   ID                          30000 non-null  int64  \n",
            " 1   LIMIT_BAL                   30000 non-null  float64\n",
            " 2   SEX                         30000 non-null  int64  \n",
            " 3   EDUCATION                   30000 non-null  int64  \n",
            " 4   MARRIAGE                    30000 non-null  int64  \n",
            " 5   AGE                         30000 non-null  int64  \n",
            " 6   PAY_0                       30000 non-null  int64  \n",
            " 7   PAY_2                       30000 non-null  int64  \n",
            " 8   PAY_3                       30000 non-null  int64  \n",
            " 9   PAY_4                       30000 non-null  int64  \n",
            " 10  PAY_5                       30000 non-null  int64  \n",
            " 11  PAY_6                       30000 non-null  int64  \n",
            " 12  BILL_AMT1                   30000 non-null  float64\n",
            " 13  BILL_AMT2                   30000 non-null  float64\n",
            " 14  BILL_AMT3                   30000 non-null  float64\n",
            " 15  BILL_AMT4                   30000 non-null  float64\n",
            " 16  BILL_AMT5                   30000 non-null  float64\n",
            " 17  BILL_AMT6                   30000 non-null  float64\n",
            " 18  PAY_AMT1                    30000 non-null  float64\n",
            " 19  PAY_AMT2                    30000 non-null  float64\n",
            " 20  PAY_AMT3                    30000 non-null  float64\n",
            " 21  PAY_AMT4                    30000 non-null  float64\n",
            " 22  PAY_AMT5                    30000 non-null  float64\n",
            " 23  PAY_AMT6                    30000 non-null  float64\n",
            " 24  default.payment.next.month  30000 non-null  int64  \n",
            "dtypes: float64(13), int64(12)\n",
            "memory usage: 5.7 MB\n"
          ]
        }
      ]
    },
    {
      "cell_type": "code",
      "source": [
        "#What are number of rows and columns\n",
        "credit_risk_data.shape"
      ],
      "metadata": {
        "colab": {
          "base_uri": "https://localhost:8080/"
        },
        "id": "sWHvaXjwolmM",
        "outputId": "7983a9ff-45e0-4845-b2a9-9d59e25d1e05"
      },
      "execution_count": 6,
      "outputs": [
        {
          "output_type": "execute_result",
          "data": {
            "text/plain": [
              "(30000, 25)"
            ]
          },
          "metadata": {},
          "execution_count": 6
        }
      ]
    },
    {
      "cell_type": "code",
      "source": [
        "#Are there any suspicious variables?\n",
        "credit_risk_data.columns.values"
      ],
      "metadata": {
        "colab": {
          "base_uri": "https://localhost:8080/"
        },
        "id": "TqxBFK2QolpY",
        "outputId": "c7086777-5f02-4f5a-eb7f-25c56c1a3506"
      },
      "execution_count": 8,
      "outputs": [
        {
          "output_type": "execute_result",
          "data": {
            "text/plain": [
              "array(['ID', 'LIMIT_BAL', 'SEX', 'EDUCATION', 'MARRIAGE', 'AGE', 'PAY_0',\n",
              "       'PAY_2', 'PAY_3', 'PAY_4', 'PAY_5', 'PAY_6', 'BILL_AMT1',\n",
              "       'BILL_AMT2', 'BILL_AMT3', 'BILL_AMT4', 'BILL_AMT5', 'BILL_AMT6',\n",
              "       'PAY_AMT1', 'PAY_AMT2', 'PAY_AMT3', 'PAY_AMT4', 'PAY_AMT5',\n",
              "       'PAY_AMT6', 'default.payment.next.month'], dtype=object)"
            ]
          },
          "metadata": {},
          "execution_count": 8
        }
      ]
    },
    {
      "cell_type": "code",
      "source": [
        "#Display the variable formats\n",
        "credit_risk_data.dtypes"
      ],
      "metadata": {
        "colab": {
          "base_uri": "https://localhost:8080/",
          "height": 158
        },
        "id": "DYdWUI2Volsw",
        "outputId": "3096b4bb-947e-4989-8682-024252818a8d"
      },
      "execution_count": 4,
      "outputs": [
        {
          "output_type": "error",
          "ename": "NameError",
          "evalue": "name 'credit_risk_data' is not defined",
          "traceback": [
            "\u001b[0;31m---------------------------------------------------------------------------\u001b[0m",
            "\u001b[0;31mNameError\u001b[0m                                 Traceback (most recent call last)",
            "\u001b[0;32m<ipython-input-4-b093d2393143>\u001b[0m in \u001b[0;36m<cell line: 2>\u001b[0;34m()\u001b[0m\n\u001b[1;32m      1\u001b[0m \u001b[0;31m#Display the variable formats\u001b[0m\u001b[0;34m\u001b[0m\u001b[0;34m\u001b[0m\u001b[0m\n\u001b[0;32m----> 2\u001b[0;31m \u001b[0mcredit_risk_data\u001b[0m\u001b[0;34m.\u001b[0m\u001b[0mdtypes\u001b[0m\u001b[0;34m\u001b[0m\u001b[0;34m\u001b[0m\u001b[0m\n\u001b[0m",
            "\u001b[0;31mNameError\u001b[0m: name 'credit_risk_data' is not defined"
          ]
        }
      ]
    },
    {
      "cell_type": "code",
      "source": [
        "#Print the first 10 observations\n",
        "credit_risk_data.head(10)"
      ],
      "metadata": {
        "colab": {
          "base_uri": "https://localhost:8080/",
          "height": 412
        },
        "id": "2H0soc3qt3jG",
        "outputId": "0a213135-9c3f-452b-eeed-607df8da919a"
      },
      "execution_count": 5,
      "outputs": [
        {
          "output_type": "execute_result",
          "data": {
            "text/plain": [
              "   ID  LIMIT_BAL  SEX  EDUCATION  MARRIAGE  AGE  PAY_0  PAY_2  PAY_3  PAY_4  \\\n",
              "0   1    20000.0    2          2         1   24      2      2     -1     -1   \n",
              "1   2   120000.0    2          2         2   26     -1      2      0      0   \n",
              "2   3    90000.0    2          2         2   34      0      0      0      0   \n",
              "3   4    50000.0    2          2         1   37      0      0      0      0   \n",
              "4   5    50000.0    1          2         1   57     -1      0     -1      0   \n",
              "5   6    50000.0    1          1         2   37      0      0      0      0   \n",
              "6   7   500000.0    1          1         2   29      0      0      0      0   \n",
              "7   8   100000.0    2          2         2   23      0     -1     -1      0   \n",
              "8   9   140000.0    2          3         1   28      0      0      2      0   \n",
              "9  10    20000.0    1          3         2   35     -2     -2     -2     -2   \n",
              "\n",
              "   ...  BILL_AMT4  BILL_AMT5  BILL_AMT6  PAY_AMT1  PAY_AMT2  PAY_AMT3  \\\n",
              "0  ...        0.0        0.0        0.0       0.0     689.0       0.0   \n",
              "1  ...     3272.0     3455.0     3261.0       0.0    1000.0    1000.0   \n",
              "2  ...    14331.0    14948.0    15549.0    1518.0    1500.0    1000.0   \n",
              "3  ...    28314.0    28959.0    29547.0    2000.0    2019.0    1200.0   \n",
              "4  ...    20940.0    19146.0    19131.0    2000.0   36681.0   10000.0   \n",
              "5  ...    19394.0    19619.0    20024.0    2500.0    1815.0     657.0   \n",
              "6  ...   542653.0   483003.0   473944.0   55000.0   40000.0   38000.0   \n",
              "7  ...      221.0     -159.0      567.0     380.0     601.0       0.0   \n",
              "8  ...    12211.0    11793.0     3719.0    3329.0       0.0     432.0   \n",
              "9  ...        0.0    13007.0    13912.0       0.0       0.0       0.0   \n",
              "\n",
              "   PAY_AMT4  PAY_AMT5  PAY_AMT6  default.payment.next.month  \n",
              "0       0.0       0.0       0.0                           1  \n",
              "1    1000.0       0.0    2000.0                           1  \n",
              "2    1000.0    1000.0    5000.0                           0  \n",
              "3    1100.0    1069.0    1000.0                           0  \n",
              "4    9000.0     689.0     679.0                           0  \n",
              "5    1000.0    1000.0     800.0                           0  \n",
              "6   20239.0   13750.0   13770.0                           0  \n",
              "7     581.0    1687.0    1542.0                           0  \n",
              "8    1000.0    1000.0    1000.0                           0  \n",
              "9   13007.0    1122.0       0.0                           0  \n",
              "\n",
              "[10 rows x 25 columns]"
            ],
            "text/html": [
              "\n",
              "  <div id=\"df-e87af78a-a613-4baa-b12c-643bec422e72\" class=\"colab-df-container\">\n",
              "    <div>\n",
              "<style scoped>\n",
              "    .dataframe tbody tr th:only-of-type {\n",
              "        vertical-align: middle;\n",
              "    }\n",
              "\n",
              "    .dataframe tbody tr th {\n",
              "        vertical-align: top;\n",
              "    }\n",
              "\n",
              "    .dataframe thead th {\n",
              "        text-align: right;\n",
              "    }\n",
              "</style>\n",
              "<table border=\"1\" class=\"dataframe\">\n",
              "  <thead>\n",
              "    <tr style=\"text-align: right;\">\n",
              "      <th></th>\n",
              "      <th>ID</th>\n",
              "      <th>LIMIT_BAL</th>\n",
              "      <th>SEX</th>\n",
              "      <th>EDUCATION</th>\n",
              "      <th>MARRIAGE</th>\n",
              "      <th>AGE</th>\n",
              "      <th>PAY_0</th>\n",
              "      <th>PAY_2</th>\n",
              "      <th>PAY_3</th>\n",
              "      <th>PAY_4</th>\n",
              "      <th>...</th>\n",
              "      <th>BILL_AMT4</th>\n",
              "      <th>BILL_AMT5</th>\n",
              "      <th>BILL_AMT6</th>\n",
              "      <th>PAY_AMT1</th>\n",
              "      <th>PAY_AMT2</th>\n",
              "      <th>PAY_AMT3</th>\n",
              "      <th>PAY_AMT4</th>\n",
              "      <th>PAY_AMT5</th>\n",
              "      <th>PAY_AMT6</th>\n",
              "      <th>default.payment.next.month</th>\n",
              "    </tr>\n",
              "  </thead>\n",
              "  <tbody>\n",
              "    <tr>\n",
              "      <th>0</th>\n",
              "      <td>1</td>\n",
              "      <td>20000.0</td>\n",
              "      <td>2</td>\n",
              "      <td>2</td>\n",
              "      <td>1</td>\n",
              "      <td>24</td>\n",
              "      <td>2</td>\n",
              "      <td>2</td>\n",
              "      <td>-1</td>\n",
              "      <td>-1</td>\n",
              "      <td>...</td>\n",
              "      <td>0.0</td>\n",
              "      <td>0.0</td>\n",
              "      <td>0.0</td>\n",
              "      <td>0.0</td>\n",
              "      <td>689.0</td>\n",
              "      <td>0.0</td>\n",
              "      <td>0.0</td>\n",
              "      <td>0.0</td>\n",
              "      <td>0.0</td>\n",
              "      <td>1</td>\n",
              "    </tr>\n",
              "    <tr>\n",
              "      <th>1</th>\n",
              "      <td>2</td>\n",
              "      <td>120000.0</td>\n",
              "      <td>2</td>\n",
              "      <td>2</td>\n",
              "      <td>2</td>\n",
              "      <td>26</td>\n",
              "      <td>-1</td>\n",
              "      <td>2</td>\n",
              "      <td>0</td>\n",
              "      <td>0</td>\n",
              "      <td>...</td>\n",
              "      <td>3272.0</td>\n",
              "      <td>3455.0</td>\n",
              "      <td>3261.0</td>\n",
              "      <td>0.0</td>\n",
              "      <td>1000.0</td>\n",
              "      <td>1000.0</td>\n",
              "      <td>1000.0</td>\n",
              "      <td>0.0</td>\n",
              "      <td>2000.0</td>\n",
              "      <td>1</td>\n",
              "    </tr>\n",
              "    <tr>\n",
              "      <th>2</th>\n",
              "      <td>3</td>\n",
              "      <td>90000.0</td>\n",
              "      <td>2</td>\n",
              "      <td>2</td>\n",
              "      <td>2</td>\n",
              "      <td>34</td>\n",
              "      <td>0</td>\n",
              "      <td>0</td>\n",
              "      <td>0</td>\n",
              "      <td>0</td>\n",
              "      <td>...</td>\n",
              "      <td>14331.0</td>\n",
              "      <td>14948.0</td>\n",
              "      <td>15549.0</td>\n",
              "      <td>1518.0</td>\n",
              "      <td>1500.0</td>\n",
              "      <td>1000.0</td>\n",
              "      <td>1000.0</td>\n",
              "      <td>1000.0</td>\n",
              "      <td>5000.0</td>\n",
              "      <td>0</td>\n",
              "    </tr>\n",
              "    <tr>\n",
              "      <th>3</th>\n",
              "      <td>4</td>\n",
              "      <td>50000.0</td>\n",
              "      <td>2</td>\n",
              "      <td>2</td>\n",
              "      <td>1</td>\n",
              "      <td>37</td>\n",
              "      <td>0</td>\n",
              "      <td>0</td>\n",
              "      <td>0</td>\n",
              "      <td>0</td>\n",
              "      <td>...</td>\n",
              "      <td>28314.0</td>\n",
              "      <td>28959.0</td>\n",
              "      <td>29547.0</td>\n",
              "      <td>2000.0</td>\n",
              "      <td>2019.0</td>\n",
              "      <td>1200.0</td>\n",
              "      <td>1100.0</td>\n",
              "      <td>1069.0</td>\n",
              "      <td>1000.0</td>\n",
              "      <td>0</td>\n",
              "    </tr>\n",
              "    <tr>\n",
              "      <th>4</th>\n",
              "      <td>5</td>\n",
              "      <td>50000.0</td>\n",
              "      <td>1</td>\n",
              "      <td>2</td>\n",
              "      <td>1</td>\n",
              "      <td>57</td>\n",
              "      <td>-1</td>\n",
              "      <td>0</td>\n",
              "      <td>-1</td>\n",
              "      <td>0</td>\n",
              "      <td>...</td>\n",
              "      <td>20940.0</td>\n",
              "      <td>19146.0</td>\n",
              "      <td>19131.0</td>\n",
              "      <td>2000.0</td>\n",
              "      <td>36681.0</td>\n",
              "      <td>10000.0</td>\n",
              "      <td>9000.0</td>\n",
              "      <td>689.0</td>\n",
              "      <td>679.0</td>\n",
              "      <td>0</td>\n",
              "    </tr>\n",
              "    <tr>\n",
              "      <th>5</th>\n",
              "      <td>6</td>\n",
              "      <td>50000.0</td>\n",
              "      <td>1</td>\n",
              "      <td>1</td>\n",
              "      <td>2</td>\n",
              "      <td>37</td>\n",
              "      <td>0</td>\n",
              "      <td>0</td>\n",
              "      <td>0</td>\n",
              "      <td>0</td>\n",
              "      <td>...</td>\n",
              "      <td>19394.0</td>\n",
              "      <td>19619.0</td>\n",
              "      <td>20024.0</td>\n",
              "      <td>2500.0</td>\n",
              "      <td>1815.0</td>\n",
              "      <td>657.0</td>\n",
              "      <td>1000.0</td>\n",
              "      <td>1000.0</td>\n",
              "      <td>800.0</td>\n",
              "      <td>0</td>\n",
              "    </tr>\n",
              "    <tr>\n",
              "      <th>6</th>\n",
              "      <td>7</td>\n",
              "      <td>500000.0</td>\n",
              "      <td>1</td>\n",
              "      <td>1</td>\n",
              "      <td>2</td>\n",
              "      <td>29</td>\n",
              "      <td>0</td>\n",
              "      <td>0</td>\n",
              "      <td>0</td>\n",
              "      <td>0</td>\n",
              "      <td>...</td>\n",
              "      <td>542653.0</td>\n",
              "      <td>483003.0</td>\n",
              "      <td>473944.0</td>\n",
              "      <td>55000.0</td>\n",
              "      <td>40000.0</td>\n",
              "      <td>38000.0</td>\n",
              "      <td>20239.0</td>\n",
              "      <td>13750.0</td>\n",
              "      <td>13770.0</td>\n",
              "      <td>0</td>\n",
              "    </tr>\n",
              "    <tr>\n",
              "      <th>7</th>\n",
              "      <td>8</td>\n",
              "      <td>100000.0</td>\n",
              "      <td>2</td>\n",
              "      <td>2</td>\n",
              "      <td>2</td>\n",
              "      <td>23</td>\n",
              "      <td>0</td>\n",
              "      <td>-1</td>\n",
              "      <td>-1</td>\n",
              "      <td>0</td>\n",
              "      <td>...</td>\n",
              "      <td>221.0</td>\n",
              "      <td>-159.0</td>\n",
              "      <td>567.0</td>\n",
              "      <td>380.0</td>\n",
              "      <td>601.0</td>\n",
              "      <td>0.0</td>\n",
              "      <td>581.0</td>\n",
              "      <td>1687.0</td>\n",
              "      <td>1542.0</td>\n",
              "      <td>0</td>\n",
              "    </tr>\n",
              "    <tr>\n",
              "      <th>8</th>\n",
              "      <td>9</td>\n",
              "      <td>140000.0</td>\n",
              "      <td>2</td>\n",
              "      <td>3</td>\n",
              "      <td>1</td>\n",
              "      <td>28</td>\n",
              "      <td>0</td>\n",
              "      <td>0</td>\n",
              "      <td>2</td>\n",
              "      <td>0</td>\n",
              "      <td>...</td>\n",
              "      <td>12211.0</td>\n",
              "      <td>11793.0</td>\n",
              "      <td>3719.0</td>\n",
              "      <td>3329.0</td>\n",
              "      <td>0.0</td>\n",
              "      <td>432.0</td>\n",
              "      <td>1000.0</td>\n",
              "      <td>1000.0</td>\n",
              "      <td>1000.0</td>\n",
              "      <td>0</td>\n",
              "    </tr>\n",
              "    <tr>\n",
              "      <th>9</th>\n",
              "      <td>10</td>\n",
              "      <td>20000.0</td>\n",
              "      <td>1</td>\n",
              "      <td>3</td>\n",
              "      <td>2</td>\n",
              "      <td>35</td>\n",
              "      <td>-2</td>\n",
              "      <td>-2</td>\n",
              "      <td>-2</td>\n",
              "      <td>-2</td>\n",
              "      <td>...</td>\n",
              "      <td>0.0</td>\n",
              "      <td>13007.0</td>\n",
              "      <td>13912.0</td>\n",
              "      <td>0.0</td>\n",
              "      <td>0.0</td>\n",
              "      <td>0.0</td>\n",
              "      <td>13007.0</td>\n",
              "      <td>1122.0</td>\n",
              "      <td>0.0</td>\n",
              "      <td>0</td>\n",
              "    </tr>\n",
              "  </tbody>\n",
              "</table>\n",
              "<p>10 rows × 25 columns</p>\n",
              "</div>\n",
              "    <div class=\"colab-df-buttons\">\n",
              "\n",
              "  <div class=\"colab-df-container\">\n",
              "    <button class=\"colab-df-convert\" onclick=\"convertToInteractive('df-e87af78a-a613-4baa-b12c-643bec422e72')\"\n",
              "            title=\"Convert this dataframe to an interactive table.\"\n",
              "            style=\"display:none;\">\n",
              "\n",
              "  <svg xmlns=\"http://www.w3.org/2000/svg\" height=\"24px\" viewBox=\"0 -960 960 960\">\n",
              "    <path d=\"M120-120v-720h720v720H120Zm60-500h600v-160H180v160Zm220 220h160v-160H400v160Zm0 220h160v-160H400v160ZM180-400h160v-160H180v160Zm440 0h160v-160H620v160ZM180-180h160v-160H180v160Zm440 0h160v-160H620v160Z\"/>\n",
              "  </svg>\n",
              "    </button>\n",
              "\n",
              "  <style>\n",
              "    .colab-df-container {\n",
              "      display:flex;\n",
              "      gap: 12px;\n",
              "    }\n",
              "\n",
              "    .colab-df-convert {\n",
              "      background-color: #E8F0FE;\n",
              "      border: none;\n",
              "      border-radius: 50%;\n",
              "      cursor: pointer;\n",
              "      display: none;\n",
              "      fill: #1967D2;\n",
              "      height: 32px;\n",
              "      padding: 0 0 0 0;\n",
              "      width: 32px;\n",
              "    }\n",
              "\n",
              "    .colab-df-convert:hover {\n",
              "      background-color: #E2EBFA;\n",
              "      box-shadow: 0px 1px 2px rgba(60, 64, 67, 0.3), 0px 1px 3px 1px rgba(60, 64, 67, 0.15);\n",
              "      fill: #174EA6;\n",
              "    }\n",
              "\n",
              "    .colab-df-buttons div {\n",
              "      margin-bottom: 4px;\n",
              "    }\n",
              "\n",
              "    [theme=dark] .colab-df-convert {\n",
              "      background-color: #3B4455;\n",
              "      fill: #D2E3FC;\n",
              "    }\n",
              "\n",
              "    [theme=dark] .colab-df-convert:hover {\n",
              "      background-color: #434B5C;\n",
              "      box-shadow: 0px 1px 3px 1px rgba(0, 0, 0, 0.15);\n",
              "      filter: drop-shadow(0px 1px 2px rgba(0, 0, 0, 0.3));\n",
              "      fill: #FFFFFF;\n",
              "    }\n",
              "  </style>\n",
              "\n",
              "    <script>\n",
              "      const buttonEl =\n",
              "        document.querySelector('#df-e87af78a-a613-4baa-b12c-643bec422e72 button.colab-df-convert');\n",
              "      buttonEl.style.display =\n",
              "        google.colab.kernel.accessAllowed ? 'block' : 'none';\n",
              "\n",
              "      async function convertToInteractive(key) {\n",
              "        const element = document.querySelector('#df-e87af78a-a613-4baa-b12c-643bec422e72');\n",
              "        const dataTable =\n",
              "          await google.colab.kernel.invokeFunction('convertToInteractive',\n",
              "                                                    [key], {});\n",
              "        if (!dataTable) return;\n",
              "\n",
              "        const docLinkHtml = 'Like what you see? Visit the ' +\n",
              "          '<a target=\"_blank\" href=https://colab.research.google.com/notebooks/data_table.ipynb>data table notebook</a>'\n",
              "          + ' to learn more about interactive tables.';\n",
              "        element.innerHTML = '';\n",
              "        dataTable['output_type'] = 'display_data';\n",
              "        await google.colab.output.renderOutput(dataTable, element);\n",
              "        const docLink = document.createElement('div');\n",
              "        docLink.innerHTML = docLinkHtml;\n",
              "        element.appendChild(docLink);\n",
              "      }\n",
              "    </script>\n",
              "  </div>\n",
              "\n",
              "\n",
              "<div id=\"df-95de4123-5d20-4783-9410-830b7b3544b7\">\n",
              "  <button class=\"colab-df-quickchart\" onclick=\"quickchart('df-95de4123-5d20-4783-9410-830b7b3544b7')\"\n",
              "            title=\"Suggest charts\"\n",
              "            style=\"display:none;\">\n",
              "\n",
              "<svg xmlns=\"http://www.w3.org/2000/svg\" height=\"24px\"viewBox=\"0 0 24 24\"\n",
              "     width=\"24px\">\n",
              "    <g>\n",
              "        <path d=\"M19 3H5c-1.1 0-2 .9-2 2v14c0 1.1.9 2 2 2h14c1.1 0 2-.9 2-2V5c0-1.1-.9-2-2-2zM9 17H7v-7h2v7zm4 0h-2V7h2v10zm4 0h-2v-4h2v4z\"/>\n",
              "    </g>\n",
              "</svg>\n",
              "  </button>\n",
              "\n",
              "<style>\n",
              "  .colab-df-quickchart {\n",
              "      --bg-color: #E8F0FE;\n",
              "      --fill-color: #1967D2;\n",
              "      --hover-bg-color: #E2EBFA;\n",
              "      --hover-fill-color: #174EA6;\n",
              "      --disabled-fill-color: #AAA;\n",
              "      --disabled-bg-color: #DDD;\n",
              "  }\n",
              "\n",
              "  [theme=dark] .colab-df-quickchart {\n",
              "      --bg-color: #3B4455;\n",
              "      --fill-color: #D2E3FC;\n",
              "      --hover-bg-color: #434B5C;\n",
              "      --hover-fill-color: #FFFFFF;\n",
              "      --disabled-bg-color: #3B4455;\n",
              "      --disabled-fill-color: #666;\n",
              "  }\n",
              "\n",
              "  .colab-df-quickchart {\n",
              "    background-color: var(--bg-color);\n",
              "    border: none;\n",
              "    border-radius: 50%;\n",
              "    cursor: pointer;\n",
              "    display: none;\n",
              "    fill: var(--fill-color);\n",
              "    height: 32px;\n",
              "    padding: 0;\n",
              "    width: 32px;\n",
              "  }\n",
              "\n",
              "  .colab-df-quickchart:hover {\n",
              "    background-color: var(--hover-bg-color);\n",
              "    box-shadow: 0 1px 2px rgba(60, 64, 67, 0.3), 0 1px 3px 1px rgba(60, 64, 67, 0.15);\n",
              "    fill: var(--button-hover-fill-color);\n",
              "  }\n",
              "\n",
              "  .colab-df-quickchart-complete:disabled,\n",
              "  .colab-df-quickchart-complete:disabled:hover {\n",
              "    background-color: var(--disabled-bg-color);\n",
              "    fill: var(--disabled-fill-color);\n",
              "    box-shadow: none;\n",
              "  }\n",
              "\n",
              "  .colab-df-spinner {\n",
              "    border: 2px solid var(--fill-color);\n",
              "    border-color: transparent;\n",
              "    border-bottom-color: var(--fill-color);\n",
              "    animation:\n",
              "      spin 1s steps(1) infinite;\n",
              "  }\n",
              "\n",
              "  @keyframes spin {\n",
              "    0% {\n",
              "      border-color: transparent;\n",
              "      border-bottom-color: var(--fill-color);\n",
              "      border-left-color: var(--fill-color);\n",
              "    }\n",
              "    20% {\n",
              "      border-color: transparent;\n",
              "      border-left-color: var(--fill-color);\n",
              "      border-top-color: var(--fill-color);\n",
              "    }\n",
              "    30% {\n",
              "      border-color: transparent;\n",
              "      border-left-color: var(--fill-color);\n",
              "      border-top-color: var(--fill-color);\n",
              "      border-right-color: var(--fill-color);\n",
              "    }\n",
              "    40% {\n",
              "      border-color: transparent;\n",
              "      border-right-color: var(--fill-color);\n",
              "      border-top-color: var(--fill-color);\n",
              "    }\n",
              "    60% {\n",
              "      border-color: transparent;\n",
              "      border-right-color: var(--fill-color);\n",
              "    }\n",
              "    80% {\n",
              "      border-color: transparent;\n",
              "      border-right-color: var(--fill-color);\n",
              "      border-bottom-color: var(--fill-color);\n",
              "    }\n",
              "    90% {\n",
              "      border-color: transparent;\n",
              "      border-bottom-color: var(--fill-color);\n",
              "    }\n",
              "  }\n",
              "</style>\n",
              "\n",
              "  <script>\n",
              "    async function quickchart(key) {\n",
              "      const quickchartButtonEl =\n",
              "        document.querySelector('#' + key + ' button');\n",
              "      quickchartButtonEl.disabled = true;  // To prevent multiple clicks.\n",
              "      quickchartButtonEl.classList.add('colab-df-spinner');\n",
              "      try {\n",
              "        const charts = await google.colab.kernel.invokeFunction(\n",
              "            'suggestCharts', [key], {});\n",
              "      } catch (error) {\n",
              "        console.error('Error during call to suggestCharts:', error);\n",
              "      }\n",
              "      quickchartButtonEl.classList.remove('colab-df-spinner');\n",
              "      quickchartButtonEl.classList.add('colab-df-quickchart-complete');\n",
              "    }\n",
              "    (() => {\n",
              "      let quickchartButtonEl =\n",
              "        document.querySelector('#df-95de4123-5d20-4783-9410-830b7b3544b7 button');\n",
              "      quickchartButtonEl.style.display =\n",
              "        google.colab.kernel.accessAllowed ? 'block' : 'none';\n",
              "    })();\n",
              "  </script>\n",
              "</div>\n",
              "\n",
              "    </div>\n",
              "  </div>\n"
            ],
            "application/vnd.google.colaboratory.intrinsic+json": {
              "type": "dataframe",
              "variable_name": "credit_risk_data"
            }
          },
          "metadata": {},
          "execution_count": 5
        }
      ]
    },
    {
      "cell_type": "code",
      "source": [
        "#Are there any   variables with missing values?\n",
        "credit_risk_data.isnull().sum()"
      ],
      "metadata": {
        "colab": {
          "base_uri": "https://localhost:8080/",
          "height": 868
        },
        "id": "1p4BVpqi7cmr",
        "outputId": "2768b896-fa53-405e-fc62-f1bd574d5036"
      },
      "execution_count": 8,
      "outputs": [
        {
          "output_type": "execute_result",
          "data": {
            "text/plain": [
              "ID                            0\n",
              "LIMIT_BAL                     0\n",
              "SEX                           0\n",
              "EDUCATION                     0\n",
              "MARRIAGE                      0\n",
              "AGE                           0\n",
              "PAY_0                         0\n",
              "PAY_2                         0\n",
              "PAY_3                         0\n",
              "PAY_4                         0\n",
              "PAY_5                         0\n",
              "PAY_6                         0\n",
              "BILL_AMT1                     0\n",
              "BILL_AMT2                     0\n",
              "BILL_AMT3                     0\n",
              "BILL_AMT4                     0\n",
              "BILL_AMT5                     0\n",
              "BILL_AMT6                     0\n",
              "PAY_AMT1                      0\n",
              "PAY_AMT2                      0\n",
              "PAY_AMT3                      0\n",
              "PAY_AMT4                      0\n",
              "PAY_AMT5                      0\n",
              "PAY_AMT6                      0\n",
              "default.payment.next.month    0\n",
              "dtype: int64"
            ],
            "text/html": [
              "<div>\n",
              "<style scoped>\n",
              "    .dataframe tbody tr th:only-of-type {\n",
              "        vertical-align: middle;\n",
              "    }\n",
              "\n",
              "    .dataframe tbody tr th {\n",
              "        vertical-align: top;\n",
              "    }\n",
              "\n",
              "    .dataframe thead th {\n",
              "        text-align: right;\n",
              "    }\n",
              "</style>\n",
              "<table border=\"1\" class=\"dataframe\">\n",
              "  <thead>\n",
              "    <tr style=\"text-align: right;\">\n",
              "      <th></th>\n",
              "      <th>0</th>\n",
              "    </tr>\n",
              "  </thead>\n",
              "  <tbody>\n",
              "    <tr>\n",
              "      <th>ID</th>\n",
              "      <td>0</td>\n",
              "    </tr>\n",
              "    <tr>\n",
              "      <th>LIMIT_BAL</th>\n",
              "      <td>0</td>\n",
              "    </tr>\n",
              "    <tr>\n",
              "      <th>SEX</th>\n",
              "      <td>0</td>\n",
              "    </tr>\n",
              "    <tr>\n",
              "      <th>EDUCATION</th>\n",
              "      <td>0</td>\n",
              "    </tr>\n",
              "    <tr>\n",
              "      <th>MARRIAGE</th>\n",
              "      <td>0</td>\n",
              "    </tr>\n",
              "    <tr>\n",
              "      <th>AGE</th>\n",
              "      <td>0</td>\n",
              "    </tr>\n",
              "    <tr>\n",
              "      <th>PAY_0</th>\n",
              "      <td>0</td>\n",
              "    </tr>\n",
              "    <tr>\n",
              "      <th>PAY_2</th>\n",
              "      <td>0</td>\n",
              "    </tr>\n",
              "    <tr>\n",
              "      <th>PAY_3</th>\n",
              "      <td>0</td>\n",
              "    </tr>\n",
              "    <tr>\n",
              "      <th>PAY_4</th>\n",
              "      <td>0</td>\n",
              "    </tr>\n",
              "    <tr>\n",
              "      <th>PAY_5</th>\n",
              "      <td>0</td>\n",
              "    </tr>\n",
              "    <tr>\n",
              "      <th>PAY_6</th>\n",
              "      <td>0</td>\n",
              "    </tr>\n",
              "    <tr>\n",
              "      <th>BILL_AMT1</th>\n",
              "      <td>0</td>\n",
              "    </tr>\n",
              "    <tr>\n",
              "      <th>BILL_AMT2</th>\n",
              "      <td>0</td>\n",
              "    </tr>\n",
              "    <tr>\n",
              "      <th>BILL_AMT3</th>\n",
              "      <td>0</td>\n",
              "    </tr>\n",
              "    <tr>\n",
              "      <th>BILL_AMT4</th>\n",
              "      <td>0</td>\n",
              "    </tr>\n",
              "    <tr>\n",
              "      <th>BILL_AMT5</th>\n",
              "      <td>0</td>\n",
              "    </tr>\n",
              "    <tr>\n",
              "      <th>BILL_AMT6</th>\n",
              "      <td>0</td>\n",
              "    </tr>\n",
              "    <tr>\n",
              "      <th>PAY_AMT1</th>\n",
              "      <td>0</td>\n",
              "    </tr>\n",
              "    <tr>\n",
              "      <th>PAY_AMT2</th>\n",
              "      <td>0</td>\n",
              "    </tr>\n",
              "    <tr>\n",
              "      <th>PAY_AMT3</th>\n",
              "      <td>0</td>\n",
              "    </tr>\n",
              "    <tr>\n",
              "      <th>PAY_AMT4</th>\n",
              "      <td>0</td>\n",
              "    </tr>\n",
              "    <tr>\n",
              "      <th>PAY_AMT5</th>\n",
              "      <td>0</td>\n",
              "    </tr>\n",
              "    <tr>\n",
              "      <th>PAY_AMT6</th>\n",
              "      <td>0</td>\n",
              "    </tr>\n",
              "    <tr>\n",
              "      <th>default.payment.next.month</th>\n",
              "      <td>0</td>\n",
              "    </tr>\n",
              "  </tbody>\n",
              "</table>\n",
              "</div><br><label><b>dtype:</b> int64</label>"
            ]
          },
          "metadata": {},
          "execution_count": 8
        }
      ]
    },
    {
      "cell_type": "markdown",
      "source": [
        "# Data Exploration"
      ],
      "metadata": {
        "id": "eX3yEdPrbyWN"
      }
    },
    {
      "cell_type": "markdown",
      "source": [
        "## Discrete/Categorical Variables Exploration"
      ],
      "metadata": {
        "id": "b09pStwvb0of"
      }
    },
    {
      "cell_type": "markdown",
      "source": [
        "## Cat Var1"
      ],
      "metadata": {
        "id": "UxY-p14aQ-mh"
      }
    },
    {
      "cell_type": "code",
      "source": [
        "import matplotlib.pyplot as plt\n",
        "import seaborn as sns\n",
        "print(credit_risk_data['ID'].value_counts())\n"
      ],
      "metadata": {
        "colab": {
          "base_uri": "https://localhost:8080/"
        },
        "id": "5Mc-OzjcwQsv",
        "outputId": "8ef60c2b-4089-41ed-f677-b1cbcd663bf5"
      },
      "execution_count": 5,
      "outputs": [
        {
          "output_type": "stream",
          "name": "stdout",
          "text": [
            "ID\n",
            "1        1\n",
            "19997    1\n",
            "20009    1\n",
            "20008    1\n",
            "20007    1\n",
            "        ..\n",
            "9996     1\n",
            "9995     1\n",
            "9994     1\n",
            "9993     1\n",
            "30000    1\n",
            "Name: count, Length: 30000, dtype: int64\n"
          ]
        }
      ]
    },
    {
      "cell_type": "markdown",
      "source": [
        "## Cat Var2"
      ],
      "metadata": {
        "id": "jbV8shOwRJ64"
      }
    },
    {
      "cell_type": "code",
      "source": [
        "print(credit_risk_data['SEX'].value_counts())\n",
        "sns.countplot(x='SEX',data=credit_risk_data)\n",
        "plt.show()"
      ],
      "metadata": {
        "colab": {
          "base_uri": "https://localhost:8080/",
          "height": 518
        },
        "id": "wxu29Wc96CyB",
        "outputId": "171db298-e30e-4563-fd79-d685c948aa8a"
      },
      "execution_count": 10,
      "outputs": [
        {
          "output_type": "stream",
          "name": "stdout",
          "text": [
            "SEX\n",
            "2    18112\n",
            "1    11888\n",
            "Name: count, dtype: int64\n"
          ]
        },
        {
          "output_type": "display_data",
          "data": {
            "text/plain": [
              "<Figure size 640x480 with 1 Axes>"
            ],
            "image/png": "[encoded data removed]"
          },
          "metadata": {}
        }
      ]
    },
    {
      "cell_type": "markdown",
      "source": [
        "## Cat Var3"
      ],
      "metadata": {
        "id": "uvXzEffSRN6X"
      }
    },
    {
      "cell_type": "markdown",
      "source": [
        "Findings"
      ],
      "metadata": {
        "id": "Pf6KSM2ERXS4"
      }
    },
    {
      "cell_type": "code",
      "source": [
        "#Total 14 Outliers are there and also the presence of unknown or ambiguous categories (5, 6, 0) suggests potential data quality issues so it needs further investigation.\n",
        "print(credit_risk_data['EDUCATION'].value_counts())\n",
        "sns.countplot(x='EDUCATION',data=credit_risk_data)\n",
        "plt.show()"
      ],
      "metadata": {
        "colab": {
          "base_uri": "https://localhost:8080/",
          "height": 605
        },
        "id": "k_gjWQFX6C_i",
        "outputId": "ac6d1b3b-6c98-491a-f82f-9be67eab7eb2"
      },
      "execution_count": 11,
      "outputs": [
        {
          "output_type": "stream",
          "name": "stdout",
          "text": [
            "EDUCATION\n",
            "2    14030\n",
            "1    10585\n",
            "3     4917\n",
            "5      280\n",
            "4      123\n",
            "6       51\n",
            "0       14\n",
            "Name: count, dtype: int64\n"
          ]
        },
        {
          "output_type": "display_data",
          "data": {
            "text/plain": [
              "<Figure size 640x480 with 1 Axes>"
            ],
            "image/png": "[encoded data removed]"
          },
          "metadata": {}
        }
      ]
    },
    {
      "cell_type": "markdown",
      "source": [
        "## Cat Var4"
      ],
      "metadata": {
        "id": "4q0idktZXomm"
      }
    },
    {
      "cell_type": "markdown",
      "source": [
        "Findings:"
      ],
      "metadata": {
        "id": "sdMkCvmzxuCX"
      }
    },
    {
      "cell_type": "code",
      "source": [
        "#0 having 54 counts are outlier here so need to be investigated and treated further.\n",
        "print(credit_risk_data['MARRIAGE'].value_counts())\n",
        "sns.countplot(x='MARRIAGE',data=credit_risk_data)\n",
        "plt.show()"
      ],
      "metadata": {
        "colab": {
          "base_uri": "https://localhost:8080/",
          "height": 553
        },
        "id": "i_lhmUoe6DJs",
        "outputId": "a279cd1d-955a-4332-a2b8-0af6a62a03a0"
      },
      "execution_count": 12,
      "outputs": [
        {
          "output_type": "stream",
          "name": "stdout",
          "text": [
            "MARRIAGE\n",
            "2    15964\n",
            "1    13659\n",
            "3      323\n",
            "0       54\n",
            "Name: count, dtype: int64\n"
          ]
        },
        {
          "output_type": "display_data",
          "data": {
            "text/plain": [
              "<Figure size 640x480 with 1 Axes>"
            ],
            "image/png": "[encoded data removed]"
          },
          "metadata": {}
        }
      ]
    },
    {
      "cell_type": "markdown",
      "source": [
        "## Cat Var5"
      ],
      "metadata": {
        "id": "SKsuMOW5EM3c"
      }
    },
    {
      "cell_type": "markdown",
      "source": [
        "Findings:"
      ],
      "metadata": {
        "id": "884BHVyO1lN0"
      }
    },
    {
      "cell_type": "code",
      "source": [
        "print(credit_risk_data['AGE'].value_counts())\n",
        "sns.countplot(x='AGE',data=credit_risk_data)\n",
        "plt.show()"
      ],
      "metadata": {
        "id": "8l93Ch1E1o5L",
        "outputId": "2ee67c34-3838-4fbf-b097-74c1a8e5ddb0",
        "colab": {
          "base_uri": "https://localhost:8080/",
          "height": 1000
        }
      },
      "execution_count": 6,
      "outputs": [
        {
          "output_type": "stream",
          "name": "stdout",
          "text": [
            "AGE\n",
            "29    1605\n",
            "27    1477\n",
            "28    1409\n",
            "30    1395\n",
            "26    1256\n",
            "31    1217\n",
            "25    1186\n",
            "34    1162\n",
            "32    1158\n",
            "33    1146\n",
            "24    1127\n",
            "35    1113\n",
            "36    1108\n",
            "37    1041\n",
            "39     954\n",
            "38     944\n",
            "23     931\n",
            "40     870\n",
            "41     824\n",
            "42     794\n",
            "44     700\n",
            "43     670\n",
            "45     617\n",
            "46     570\n",
            "22     560\n",
            "47     501\n",
            "48     466\n",
            "49     452\n",
            "50     411\n",
            "51     340\n",
            "53     325\n",
            "52     304\n",
            "54     247\n",
            "55     209\n",
            "56     178\n",
            "58     122\n",
            "57     122\n",
            "59      83\n",
            "60      67\n",
            "21      67\n",
            "61      56\n",
            "62      44\n",
            "63      31\n",
            "64      31\n",
            "66      25\n",
            "65      24\n",
            "67      16\n",
            "69      15\n",
            "70      10\n",
            "68       5\n",
            "73       4\n",
            "72       3\n",
            "75       3\n",
            "71       3\n",
            "79       1\n",
            "74       1\n",
            "Name: count, dtype: int64\n"
          ]
        },
        {
          "output_type": "display_data",
          "data": {
            "text/plain": [
              "<Figure size 640x480 with 1 Axes>"
            ],
            "image/png": "[encoded data removed]"
          },
          "metadata": {}
        }
      ]
    },
    {
      "cell_type": "markdown",
      "source": [
        "## Cat Var6"
      ],
      "metadata": {
        "id": "mWdR-xcXEVmh"
      }
    },
    {
      "cell_type": "markdown",
      "source": [
        "Findings:"
      ],
      "metadata": {
        "id": "k_186lNxGG0K"
      }
    },
    {
      "cell_type": "code",
      "source": [
        "# PAY_0 need to be replaced by PAY_1 to maintain a continuity.\n",
        "#0 and -2 are outliers here as those do not belong to the Data Dictionary\n",
        "pay_0 = credit_risk_data['PAY_0'].value_counts()\n",
        "pay_2 = credit_risk_data['PAY_2'].value_counts()\n",
        "pay_3 = credit_risk_data['PAY_3'].value_counts()\n",
        "pay_4 = credit_risk_data['PAY_4'].value_counts()\n",
        "pay_5 = credit_risk_data['PAY_5'].value_counts()\n",
        "result = pd.concat([pay_0, pay_2, pay_3, pay_4, pay_5], axis=1)\n",
        "result.columns = ['PAY_0', 'PAY_2', 'PAY_3', 'PAY_4', 'PAY_5']\n",
        "result.fillna(0, inplace=True)\n",
        "print(result)"
      ],
      "metadata": {
        "colab": {
          "base_uri": "https://localhost:8080/"
        },
        "id": "x7ousaFf9r9E",
        "outputId": "fdb02117-e2e5-4213-d5d1-636e0faa1711"
      },
      "execution_count": 23,
      "outputs": [
        {
          "output_type": "stream",
          "name": "stdout",
          "text": [
            "    PAY_0  PAY_2  PAY_3  PAY_4    PAY_5\n",
            " 0  14737  15730  15764  16455  16947.0\n",
            "-1   5686   6050   5938   5687   5539.0\n",
            " 1   3688     28      4      2      0.0\n",
            "-2   2759   3782   4085   4348   4546.0\n",
            " 2   2667   3927   3819   3159   2626.0\n",
            " 3    322    326    240    180    178.0\n",
            " 4     76     99     76     69     84.0\n",
            " 5     26     25     21     35     17.0\n",
            " 8     19      1      3      2      1.0\n",
            " 6     11     12     23      5      4.0\n",
            " 7      9     20     27     58     58.0\n"
          ]
        }
      ]
    },
    {
      "cell_type": "markdown",
      "source": [
        "## Cat Var7"
      ],
      "metadata": {
        "id": "k-rM4zRjb97N"
      }
    },
    {
      "cell_type": "markdown",
      "source": [
        "Findings"
      ],
      "metadata": {
        "id": "mDxE670mcD5U"
      }
    },
    {
      "cell_type": "code",
      "source": [
        "print(credit_risk_data['default.payment.next.month'].value_counts())\n",
        "sns.countplot(x='default.payment.next.month',data=credit_risk_data)\n",
        "plt.show()"
      ],
      "metadata": {
        "id": "rm6L97lPEere",
        "outputId": "86ff9f0d-431d-4bd7-fac1-0fc724227fcd",
        "colab": {
          "base_uri": "https://localhost:8080/",
          "height": 518
        }
      },
      "execution_count": 24,
      "outputs": [
        {
          "output_type": "stream",
          "name": "stdout",
          "text": [
            "default.payment.next.month\n",
            "0    23364\n",
            "1     6636\n",
            "Name: count, dtype: int64\n"
          ]
        },
        {
          "output_type": "display_data",
          "data": {
            "text/plain": [
              "<Figure size 640x480 with 1 Axes>"
            ],
            "image/png": "[encoded data removed]"
          },
          "metadata": {}
        }
      ]
    },
    {
      "cell_type": "markdown",
      "source": [
        "## Continuous Variables Exploration"
      ],
      "metadata": {
        "id": "RBrQRLEZcTom"
      }
    },
    {
      "cell_type": "markdown",
      "source": [
        "**`Continous Var 1`**[LIMIT BAL]"
      ],
      "metadata": {
        "id": "SLONQ8DPVb31"
      }
    },
    {
      "cell_type": "markdown",
      "source": [
        "Findings"
      ],
      "metadata": {
        "id": "_QjGkCDVcjEO"
      }
    },
    {
      "cell_type": "code",
      "source": [
        "plt.boxplot(credit_risk_data[\"LIMIT_BAL\"])\n",
        "Bal_percentiles=credit_risk_data['LIMIT_BAL'].quantile([0.05, 0.1, 0.25, 0.5, 0.75, 0.80, 0.9,0.91,0.95,0.96,0.97,0.975,0.98,0.99,1])\n",
        "round(Bal_percentiles,2)"
      ],
      "metadata": {
        "id": "5ONTQUCGHiNu",
        "outputId": "3e523eda-531f-4f2e-81ee-f9c34b182f8d",
        "colab": {
          "base_uri": "https://localhost:8080/",
          "height": 982
        }
      },
      "execution_count": 28,
      "outputs": [
        {
          "output_type": "execute_result",
          "data": {
            "text/plain": [
              "0.050      20000.0\n",
              "0.100      30000.0\n",
              "0.250      50000.0\n",
              "0.500     140000.0\n",
              "0.750     240000.0\n",
              "0.800     270000.0\n",
              "0.900     360000.0\n",
              "0.910     360000.0\n",
              "0.950     430000.0\n",
              "0.960     460000.0\n",
              "0.970     500000.0\n",
              "0.975     500000.0\n",
              "0.980     500000.0\n",
              "0.990     500000.0\n",
              "1.000    1000000.0\n",
              "Name: LIMIT_BAL, dtype: float64"
            ],
            "text/html": [
              "<div>\n",
              "<style scoped>\n",
              "    .dataframe tbody tr th:only-of-type {\n",
              "        vertical-align: middle;\n",
              "    }\n",
              "\n",
              "    .dataframe tbody tr th {\n",
              "        vertical-align: top;\n",
              "    }\n",
              "\n",
              "    .dataframe thead th {\n",
              "        text-align: right;\n",
              "    }\n",
              "</style>\n",
              "<table border=\"1\" class=\"dataframe\">\n",
              "  <thead>\n",
              "    <tr style=\"text-align: right;\">\n",
              "      <th></th>\n",
              "      <th>LIMIT_BAL</th>\n",
              "    </tr>\n",
              "  </thead>\n",
              "  <tbody>\n",
              "    <tr>\n",
              "      <th>0.050</th>\n",
              "      <td>20000.0</td>\n",
              "    </tr>\n",
              "    <tr>\n",
              "      <th>0.100</th>\n",
              "      <td>30000.0</td>\n",
              "    </tr>\n",
              "    <tr>\n",
              "      <th>0.250</th>\n",
              "      <td>50000.0</td>\n",
              "    </tr>\n",
              "    <tr>\n",
              "      <th>0.500</th>\n",
              "      <td>140000.0</td>\n",
              "    </tr>\n",
              "    <tr>\n",
              "      <th>0.750</th>\n",
              "      <td>240000.0</td>\n",
              "    </tr>\n",
              "    <tr>\n",
              "      <th>0.800</th>\n",
              "      <td>270000.0</td>\n",
              "    </tr>\n",
              "    <tr>\n",
              "      <th>0.900</th>\n",
              "      <td>360000.0</td>\n",
              "    </tr>\n",
              "    <tr>\n",
              "      <th>0.910</th>\n",
              "      <td>360000.0</td>\n",
              "    </tr>\n",
              "    <tr>\n",
              "      <th>0.950</th>\n",
              "      <td>430000.0</td>\n",
              "    </tr>\n",
              "    <tr>\n",
              "      <th>0.960</th>\n",
              "      <td>460000.0</td>\n",
              "    </tr>\n",
              "    <tr>\n",
              "      <th>0.970</th>\n",
              "      <td>500000.0</td>\n",
              "    </tr>\n",
              "    <tr>\n",
              "      <th>0.975</th>\n",
              "      <td>500000.0</td>\n",
              "    </tr>\n",
              "    <tr>\n",
              "      <th>0.980</th>\n",
              "      <td>500000.0</td>\n",
              "    </tr>\n",
              "    <tr>\n",
              "      <th>0.990</th>\n",
              "      <td>500000.0</td>\n",
              "    </tr>\n",
              "    <tr>\n",
              "      <th>1.000</th>\n",
              "      <td>1000000.0</td>\n",
              "    </tr>\n",
              "  </tbody>\n",
              "</table>\n",
              "</div><br><label><b>dtype:</b> float64</label>"
            ]
          },
          "metadata": {},
          "execution_count": 28
        },
        {
          "output_type": "display_data",
          "data": {
            "text/plain": [
              "<Figure size 640x480 with 1 Axes>"
            ],
            "image/png": "[encoded data removed]"
          },
          "metadata": {}
        }
      ]
    },
    {
      "cell_type": "markdown",
      "source": [
        "## Continuous Var2"
      ],
      "metadata": {
        "id": "kTEjMRKNcjEO"
      }
    },
    {
      "cell_type": "markdown",
      "source": [
        "Findings"
      ],
      "metadata": {
        "id": "Ga5JDxQ5cjEO"
      }
    },
    {
      "cell_type": "code",
      "source": [
        "percentiles = [0.05, 0.1, 0.25, 0.5, 0.75, 0.80, 0.9, 0.91, 0.95, 0.96, 0.97, 0.975, 0.98, 0.99, 1]\n",
        "bill_columns = ['BILL_AMT1', 'BILL_AMT2', 'BILL_AMT3', 'BILL_AMT4', 'BILL_AMT5', 'BILL_AMT6']\n",
        "percentiles_dict = {col: credit_risk_data[col].quantile(percentiles) for col in bill_columns}\n",
        "percentiles_df = pd.DataFrame(percentiles_dict)\n",
        "print(percentiles_df)"
      ],
      "metadata": {
        "id": "XomG9bs07W09",
        "outputId": "a738f45f-f6f0-4850-c7b9-a7dbde7663c1",
        "colab": {
          "base_uri": "https://localhost:8080/"
        }
      },
      "execution_count": 7,
      "outputs": [
        {
          "output_type": "stream",
          "name": "stdout",
          "text": [
            "       BILL_AMT1  BILL_AMT2   BILL_AMT3  BILL_AMT4  BILL_AMT5   BILL_AMT6\n",
            "0.050       0.00       0.00        0.00       0.00       0.00       0.000\n",
            "0.100     278.90       0.00        0.00       0.00       0.00       0.000\n",
            "0.250    3558.75    2984.75     2666.25    2326.75    1763.00    1256.000\n",
            "0.500   22381.50   21200.00    20088.50   19052.00   18104.50   17071.000\n",
            "0.750   67091.00   64006.25    60164.75   54506.00   50190.50   49198.250\n",
            "0.800   83421.20   80292.20    76777.40   70579.00   65823.00   63150.600\n",
            "0.900  142133.70  136905.50   132051.30  122418.70  115883.00  112110.400\n",
            "0.910  151214.72  145064.86   139419.08  130937.09  123655.36  120740.530\n",
            "0.950  201203.05  194792.20   187821.05  174333.35  165794.30  161912.000\n",
            "0.960  220592.72  211343.08   203652.80  190088.52  181044.44  177592.760\n",
            "0.970  245969.84  236662.72   228277.79  210965.51  198861.03  195114.300\n",
            "0.975  262212.75  253464.95   243567.55  226607.50  210943.95  205378.325\n",
            "0.980  282227.68  274120.58   263208.54  246655.72  228587.04  223436.140\n",
            "0.990  350110.68  337495.28   325030.39  304997.27  285868.33  279505.060\n",
            "1.000  964511.00  983931.00  1664089.00  891586.00  927171.00  961664.000\n"
          ]
        }
      ]
    },
    {
      "cell_type": "markdown",
      "source": [
        "## Continuous Var3.."
      ],
      "metadata": {
        "id": "4qb-6SRAcjEP"
      }
    },
    {
      "cell_type": "markdown",
      "source": [
        "Findings"
      ],
      "metadata": {
        "id": "tazXLGWLcjEP"
      }
    },
    {
      "cell_type": "code",
      "source": [
        "percentiles = [0.05, 0.1, 0.25, 0.5, 0.75, 0.80, 0.9, 0.91, 0.95, 0.96, 0.97, 0.975, 0.98, 0.99, 1]\n",
        "bill_columns = ['PAY_AMT1', 'PAY_AMT2', 'PAY_AMT3', 'PAY_AMT4', 'PAY_AMT5', 'PAY_AMT6']\n",
        "percentiles_dict = {col: credit_risk_data[col].quantile(percentiles) for col in bill_columns}\n",
        "percentiles_df = pd.DataFrame(percentiles_dict)\n",
        "print(percentiles_df)"
      ],
      "metadata": {
        "id": "Gwq8zFOUDAcW",
        "outputId": "5cebc8d9-e214-441d-fddf-48bb0c39b332",
        "colab": {
          "base_uri": "https://localhost:8080/"
        }
      },
      "execution_count": 8,
      "outputs": [
        {
          "output_type": "stream",
          "name": "stdout",
          "text": [
            "        PAY_AMT1    PAY_AMT2   PAY_AMT3    PAY_AMT4   PAY_AMT5   PAY_AMT6\n",
            "0.050       0.00        0.00       0.00       0.000       0.00       0.00\n",
            "0.100       0.00        0.00       0.00       0.000       0.00       0.00\n",
            "0.250    1000.00      833.00     390.00     296.000     252.50     117.75\n",
            "0.500    2100.00     2009.00    1800.00    1500.000    1500.00    1500.00\n",
            "0.750    5006.00     5000.00    4505.00    4013.250    4031.50    4000.00\n",
            "0.800    6192.20     6000.00    5284.00    5000.000    5000.00    5000.00\n",
            "0.900   10300.00    10401.10   10000.00    9570.600    9500.00    9600.00\n",
            "0.910   11174.00    11320.00   10288.36   10000.000   10000.00   10000.00\n",
            "0.950   18428.20    19004.35   17589.40   16014.950   16000.00   17343.80\n",
            "0.960   21006.24    21408.36   20150.00   20000.000   20000.00   21034.88\n",
            "0.970   28232.78    29000.00   27000.33   26665.400   25314.21   29561.76\n",
            "0.975   32000.00    33000.00   30801.20   30218.125   30000.00   35110.10\n",
            "0.980   40000.00    41027.88   38661.36   39634.040   37259.66   45010.48\n",
            "0.990   66522.18    76651.02   70000.00   67054.440   65607.56   82619.05\n",
            "1.000  873552.00  1684259.00  896040.00  621000.000  426529.00  528666.00\n"
          ]
        }
      ]
    },
    {
      "cell_type": "markdown",
      "source": [
        "# Data Cleaning and Data Preparation"
      ],
      "metadata": {
        "id": "-EPlIzkSuFf6"
      }
    },
    {
      "cell_type": "markdown",
      "source": [
        "## Var1 Cleaning"
      ],
      "metadata": {
        "id": "aRynIo4gcwHw"
      }
    },
    {
      "cell_type": "markdown",
      "source": [
        "## Var2 Cleaning"
      ],
      "metadata": {
        "id": "QxtX87e-czhs"
      }
    },
    {
      "cell_type": "code",
      "source": [],
      "metadata": {
        "id": "0qUJKLisuP6C"
      },
      "execution_count": null,
      "outputs": []
    },
    {
      "cell_type": "code",
      "source": [],
      "metadata": {
        "id": "j-B2cvuSuP9b"
      },
      "execution_count": null,
      "outputs": []
    },
    {
      "cell_type": "markdown",
      "source": [
        "# Model Building\n",
        "Select the right model, Include Feature Engineering, Perform Model Validation, Multiple models and performance comparison\n"
      ],
      "metadata": {
        "id": "MPohYFNGvAgs"
      }
    },
    {
      "cell_type": "code",
      "source": [],
      "metadata": {
        "id": "CLfA9QM9vR6B"
      },
      "execution_count": null,
      "outputs": []
    },
    {
      "cell_type": "code",
      "source": [],
      "metadata": {
        "id": "WnR-d4DXvSBJ"
      },
      "execution_count": null,
      "outputs": []
    },
    {
      "cell_type": "markdown",
      "source": [
        "# Model Validation\n",
        "Confusion matrix, Sensitivity, Specificity, F1 Score, Recall, Precision etc."
      ],
      "metadata": {
        "id": "hafQufIYvTCS"
      }
    },
    {
      "cell_type": "code",
      "source": [],
      "metadata": {
        "id": "6RHq0EfVvkkz"
      },
      "execution_count": null,
      "outputs": []
    },
    {
      "cell_type": "code",
      "source": [],
      "metadata": {
        "id": "CRmdwZDIvkrP"
      },
      "execution_count": null,
      "outputs": []
    },
    {
      "cell_type": "code",
      "source": [],
      "metadata": {
        "id": "VbN-ze2YvkuY"
      },
      "execution_count": null,
      "outputs": []
    },
    {
      "cell_type": "markdown",
      "source": [
        "# Model  Deployment\n",
        "## Optional step"
      ],
      "metadata": {
        "id": "CWYNRwm2vlDs"
      }
    },
    {
      "cell_type": "code",
      "source": [],
      "metadata": {
        "id": "ubQzEKTHvsUu"
      },
      "execution_count": null,
      "outputs": []
    },
    {
      "cell_type": "code",
      "source": [],
      "metadata": {
        "id": "456tAxZGvsYJ"
      },
      "execution_count": null,
      "outputs": []
    }
  ]
}